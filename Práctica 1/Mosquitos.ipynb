{
 "cells": [
  {
   "cell_type": "markdown",
   "id": "7c8fcb36-8690-4cb6-9a95-118a0060414c",
   "metadata": {},
   "source": [
    "# Clasificación Binaria de Imágenes usando Redes Neuronales Convolucionales"
   ]
  },
  {
   "cell_type": "markdown",
   "id": "e2934970-0427-4816-94f4-1ed925fe69c9",
   "metadata": {},
   "source": [
    "## Dataset: Aedes Aegipty y Aedes Albopictus"
   ]
  },
  {
   "cell_type": "code",
   "execution_count": 1,
   "id": "d1797391-5fe7-4e21-901d-3bb241fd46cc",
   "metadata": {},
   "outputs": [],
   "source": [
    "import os\n",
    "import path\n",
    "import shutil\n",
    "import zipfile\n",
    "\n",
    "import numpy as np\n",
    "import pandas as pd\n",
    "import seaborn as sns\n",
    "from tqdm.notebook import tqdm\n",
    "import matplotlib.pyplot as plt\n",
    "\n",
    "import torch\n",
    "import torchvision\n",
    "import torch.nn as nn\n",
    "import torch.optim as optim\n",
    "import torch.nn.functional as F\n",
    "from torchvision import transforms, utils, datasets\n",
    "from torch.utils.data import Dataset, DataLoader\n",
    "\n",
    "from sklearn.metrics import classification_report, confusion_matrix"
   ]
  },
  {
   "cell_type": "markdown",
   "id": "e0c50ae1-4dd6-4f77-bd49-e02f3eec685c",
   "metadata": {},
   "source": [
    "Estaremos trabajando con Pytorch, por lo que es necesario comprobar que se esté usando nuestra GPU.\n",
    "\n",
    "Establecemos la semilla aleatoria de manera manual si usamos CPU o le encargamos a CUDA que establezca la misma semilla si se usa GPU"
   ]
  },
  {
   "cell_type": "code",
   "execution_count": 2,
   "id": "bc7052f8-bd41-4175-9f10-09589ffd389b",
   "metadata": {},
   "outputs": [
    {
     "name": "stdout",
     "output_type": "stream",
     "text": [
      "We're using => cuda\n"
     ]
    }
   ],
   "source": [
    "device = torch.device(\"cuda\" if torch.cuda.is_available() else \"cpu\")\n",
    "print(\"We're using =>\", device)\n",
    "\n",
    "torch.manual_seed(1234)\n",
    "if device =='cuda':\n",
    "    torch.cuda.manual_seed_all(1234)"
   ]
  },
  {
   "cell_type": "markdown",
   "id": "4f6f4332-5f32-4c8e-b952-542e95e948f2",
   "metadata": {},
   "source": [
    "Aquí definimos la ruta base de nuestros datos."
   ]
  },
  {
   "cell_type": "code",
   "execution_count": 3,
   "id": "0b8fdc4a-daf9-4d4f-be2a-9d30a4170c4a",
   "metadata": {},
   "outputs": [],
   "source": [
    "Path = \"../Práctica 1/\" #Depende de la ruta en tu máquina"
   ]
  },
  {
   "cell_type": "code",
   "execution_count": 12,
   "id": "605f30ae-1d3e-48b0-bfd4-059a56255173",
   "metadata": {},
   "outputs": [],
   "source": [
    "with zipfile.ZipFile(Path+'DataSetAedes.zip', 'r') as archive:\n",
    "   # Extrae todo el contenido del achivo ZIP en el directorio actual\n",
    "   archive.extractall(Path)"
   ]
  },
  {
   "cell_type": "code",
   "execution_count": 13,
   "id": "9030b606-b5a4-47cb-8e5b-fc8f2a02ad7d",
   "metadata": {},
   "outputs": [
    {
     "data": {
      "text/plain": [
       "['Aegypti', 'Albopictus', 'Ambos', 'DataSetAedes']"
      ]
     },
     "execution_count": 13,
     "metadata": {},
     "output_type": "execute_result"
    }
   ],
   "source": [
    "os.listdir(Path+\"DataSetAedes\")"
   ]
  },
  {
   "cell_type": "markdown",
   "id": "029eadeb-e250-4410-85f4-a6e469343c3a",
   "metadata": {},
   "source": [
    "## Definimos las transformaciones de las imágenes"
   ]
  },
  {
   "cell_type": "markdown",
   "id": "451b886a-a911-4a1c-86c8-d65ba9885593",
   "metadata": {},
   "source": [
    "Definamos un diccionario para contener las transformaciones de imagen para conjuntos de entrenamiento, prueba y validación\n",
    "\n",
    "Cambiaremos el tamaño de todas las imágenes para que tengan tamaño (224, 224) y también convertiremos las imágenes a tensor.\n",
    "\n",
    "La función `ToTensor` de Pytorch convuierte todos los tensores para que se encuentren entre (0, 1)\n",
    "\n",
    "Esta función convierte una imagen PIL o un array de numpy `numpy.ndarray` de forma (H x W x C) \"Height x Width x Channel\" en el rango [0, 255] a un tensor de flotantes de Pytorch `torch.FloatTensor` de la forma (C x H x W) en el rango [0.0, 1.0]"
   ]
  },
  {
   "cell_type": "code",
   "execution_count": 14,
   "id": "61f25e9a-e384-4a17-b7ea-0940fb78b2e1",
   "metadata": {},
   "outputs": [],
   "source": [
    "image_transforms = { \"train\": transforms.Compose([transforms.Resize((224, 224)),transforms.ToTensor()]),\n",
    "                     \"test\": transforms.Compose([transforms.Resize((224, 224)),transforms.ToTensor()]),\n",
    "                     \"val\": transforms.Compose([transforms.Resize((224, 224)),transforms.ToTensor()])}\n"
   ]
  },
  {
   "cell_type": "markdown",
   "id": "8a530d2f-5664-41fa-8621-2827133b50d0",
   "metadata": {},
   "source": [
    "Usaremos la librería `splitfolder` para poder separar nuestros datos en train, test y validation de manera automática."
   ]
  },
  {
   "cell_type": "code",
   "execution_count": 15,
   "id": "fa7b2c0b-7dc4-40d7-bf7b-d3190d484b6f",
   "metadata": {},
   "outputs": [
    {
     "name": "stderr",
     "output_type": "stream",
     "text": [
      "Copying files: 548 files [00:04, 130.20 files/s]\n"
     ]
    }
   ],
   "source": [
    "import splitfolders\n",
    "os.makedirs(Path+\"data\", exist_ok=True)\n",
    "\n",
    "splitfolders.ratio(Path+\"DataSetAedes\", output= Path+\"data\", seed=1, ratio=(.8, 0.1,0.1), group_prefix=2)\n"
   ]
  },
  {
   "cell_type": "code",
   "execution_count": 16,
   "id": "5516ee35-741f-426d-a59b-2aa2d94411f3",
   "metadata": {
    "tags": []
   },
   "outputs": [
    {
     "data": {
      "text/plain": [
       "['test', 'train', 'val']"
      ]
     },
     "execution_count": 16,
     "metadata": {},
     "output_type": "execute_result"
    }
   ],
   "source": [
    "os.listdir(Path+\"data\")"
   ]
  },
  {
   "cell_type": "markdown",
   "id": "6d9e1378-17c1-406d-bbf1-706572f5772f",
   "metadata": {},
   "source": [
    "Para esta actividad específicamente, no tomaremos en cuenta la carpeta de archivos que contiene los collages de ambas especies de mosquitos. Las usaremos en otra ocación."
   ]
  },
  {
   "cell_type": "code",
   "execution_count": 17,
   "id": "a0375eda-8a67-4d78-b1b6-11e217ed12cf",
   "metadata": {
    "tags": []
   },
   "outputs": [],
   "source": [
    "for folders in os.listdir(Path+\"data\"):\n",
    "    shutil.rmtree(Path+\"data/\"+folders+\"/\"+ \"Ambos\")\n",
    "    os.rmdir(Path+\"data/\"+folders+\"/\"+ \"DataSetAedes\")"
   ]
  },
  {
   "cell_type": "markdown",
   "id": "c21534aa-8976-4d54-8d07-cb469e2681d4",
   "metadata": {},
   "source": [
    "## Trabajando con los Datasets"
   ]
  },
  {
   "cell_type": "markdown",
   "id": "b69347c8-0391-4fd1-bde8-ff3705aaf6ce",
   "metadata": {},
   "source": [
    "Aquí inicializamos los Datasets usando las carpetas correspondientes y aplicamos sus transformaciones."
   ]
  },
  {
   "cell_type": "code",
   "execution_count": 18,
   "id": "1d91bd4c-036c-45fb-aa9b-15536dd26ec3",
   "metadata": {},
   "outputs": [
    {
     "name": "stdout",
     "output_type": "stream",
     "text": [
      "Dataset ImageFolder\n",
      "    Number of datapoints: 416\n",
      "    Root location: ../Práctica 1/data/train/\n",
      "    StandardTransform\n",
      "Transform: Compose(\n",
      "               Resize(size=(224, 224), interpolation=bilinear)\n",
      "               ToTensor()\n",
      "           )\n",
      "Dataset ImageFolder\n",
      "    Number of datapoints: 52\n",
      "    Root location: ../Práctica 1/data/test/\n",
      "    StandardTransform\n",
      "Transform: Compose(\n",
      "               Resize(size=(224, 224), interpolation=bilinear)\n",
      "               ToTensor()\n",
      "           )\n",
      "Dataset ImageFolder\n",
      "    Number of datapoints: 52\n",
      "    Root location: ../Práctica 1/data/val/\n",
      "    StandardTransform\n",
      "Transform: Compose(\n",
      "               Resize(size=(224, 224), interpolation=bilinear)\n",
      "               ToTensor()\n",
      "           )\n"
     ]
    }
   ],
   "source": [
    "mosquitos_dataset_train = datasets.ImageFolder(root = Path + \"data/train/\",\n",
    "                                         transform = image_transforms[\"train\"])\n",
    "\n",
    "mosquitos_dataset_test = datasets.ImageFolder(root = Path + \"data/test/\",\n",
    "                                         transform = image_transforms[\"test\"])\n",
    "\n",
    "mosquitos_dataset_val = datasets.ImageFolder(root = Path + \"data/val/\",\n",
    "                                         transform = image_transforms[\"val\"])\n",
    "\n",
    "print(mosquitos_dataset_train)\n",
    "print(mosquitos_dataset_test)\n",
    "print(mosquitos_dataset_val)"
   ]
  },
  {
   "cell_type": "markdown",
   "id": "b4de9e24-dfc2-46ee-ace7-361080f3e5ef",
   "metadata": {},
   "source": [
    "La función class_to_idx está predefinida en PyTorch. Devuelve los IDs de clase presentes en el conjunto de datos."
   ]
  },
  {
   "cell_type": "code",
   "execution_count": 19,
   "id": "a94aaabf-636b-414d-aa3c-7fbd3ef5bbfe",
   "metadata": {},
   "outputs": [
    {
     "data": {
      "text/plain": [
       "{'Aegypti': 0, 'Albopictus': 1}"
      ]
     },
     "execution_count": 19,
     "metadata": {},
     "output_type": "execute_result"
    }
   ],
   "source": [
    "mosquitos_dataset_train.class_to_idx"
   ]
  },
  {
   "cell_type": "markdown",
   "id": "2c7ca93b-0e79-4255-b0c3-98185f97b93e",
   "metadata": {},
   "source": [
    "Ahora haremos un mapeo de ID a clase."
   ]
  },
  {
   "cell_type": "code",
   "execution_count": 20,
   "id": "036c8b62-fe16-4a62-b767-5bcefa63228b",
   "metadata": {
    "tags": []
   },
   "outputs": [],
   "source": [
    "idx2class = {v: k for k, v in mosquitos_dataset_train.class_to_idx.items()}"
   ]
  },
  {
   "cell_type": "markdown",
   "id": "38280bf0-59e8-4fa8-bb64-89d992460815",
   "metadata": {},
   "source": [
    "Ahora haremos una función que tomará un objeto de clase Dataset y regresará un diccionário con el conteo de muestras d clase. Usaremos este diccionario para contruir unas gráficas y observar la distrubución de clases de nuestros datos. \n",
    "\n",
    "La función `get_class_distribution()` recibe un argumento llamado `dataset_obj`\n",
    "\n",
    "- Primero inicializamos el diccionario `count_dict` donde el conteo de todas nuestras claces comienza en 0\n",
    "\n",
    "- Después, iteraremos a través de todo el dataset e iremos incrememntando el contador por 1 por cada que nos encontremmos con una nueva clase.\n",
    "\n",
    "`plot_from_dict()` recibe 3 argumentos: un diccionario `dict_obj`, `plot_title`, y `**kwargs` que serán usados después para contruir subgráficas usando Seaborn\n",
    "\n",
    "- Primero convertimos el diccionario en un dataframe\n",
    "\n",
    "- Juntamos el dataframe y hacemos la gráfica"
   ]
  },
  {
   "cell_type": "code",
   "execution_count": 21,
   "id": "6a7c8e83-e4fa-45af-ba3d-a111625c6740",
   "metadata": {},
   "outputs": [
    {
     "data": {
      "text/plain": [
       "Text(0.5, 1.0, 'Dataset train elements)')"
      ]
     },
     "execution_count": 21,
     "metadata": {},
     "output_type": "execute_result"
    },
    {
     "data": {
      "image/png": "[encoded data removed]",
      "text/plain": [
       "<Figure size 1080x576 with 1 Axes>"
      ]
     },
     "metadata": {
      "needs_background": "light"
     },
     "output_type": "display_data"
    }
   ],
   "source": [
    "def get_class_distribution(dataset_obj):\n",
    "    count_dict = {k:0 for k,v in dataset_obj.class_to_idx.items()}\n",
    "    for _, label_id in dataset_obj:\n",
    "        label = idx2class[label_id]\n",
    "        count_dict[label] += 1\n",
    "    return count_dict\n",
    "def plot_from_dict(dict_obj, plot_title, **kwargs):\n",
    "    return sns.barplot(data = pd.DataFrame.from_dict([dict_obj]).melt(), x = \"variable\", y=\"value\", hue=\"variable\", **kwargs).set_title(plot_title)\n",
    "plt.figure(figsize=(15,8))\n",
    "plot_from_dict(get_class_distribution(mosquitos_dataset_train), plot_title=\"Dataset train elements)\")"
   ]
  },
  {
   "cell_type": "markdown",
   "id": "58c96a2a-8ea1-4db5-b423-238afc67c3d6",
   "metadata": {},
   "source": [
    "Creamos los Dataloaders para cada uno de nuestros sets procurando poner la opción de `shuffle=True`para que nuestras imágenes no se encuentren en un orden específico"
   ]
  },
  {
   "cell_type": "code",
   "execution_count": 24,
   "id": "bd679c51-f700-46e9-be20-29950da4439c",
   "metadata": {},
   "outputs": [],
   "source": [
    "train_loader = DataLoader(dataset=mosquitos_dataset_train, shuffle=True, batch_size=8)\n",
    "\n",
    "test_loader = DataLoader(dataset=mosquitos_dataset_test, shuffle=True, batch_size=1)\n",
    "\n",
    "val_loader = DataLoader(dataset=mosquitos_dataset_val, shuffle=True, batch_size=1)"
   ]
  },
  {
   "cell_type": "markdown",
   "id": "1c490ea2-7568-4045-9729-20146aaf0341",
   "metadata": {},
   "source": [
    "## Explorando las imágenes"
   ]
  },
  {
   "cell_type": "markdown",
   "id": "2a1fbafd-7695-44a0-a0b2-1ed254514e12",
   "metadata": {},
   "source": [
    "Una vez cargados nuetros Datasets, podemos explorarlos un poco. Para ellos, creamos una función que tomará los dataloaders y regresarpa un diccionario con el conteo de clases, parecido al creado anteriormente.\n",
    "\n",
    "- Inicializamos un diccionario `count_dict` con puros 0's\n",
    "\n",
    "- Si el `batch_size` de `dataloader_obj` es 1, entonces recorre el `dataloader_obj` y actualiza el contador.\n",
    "\n",
    "- Si el `batch_size` de `dataloader_obj` NO es 1, entonces recorre el `dataloader_obj` para obtener el tamaño de ls batches. Después recorre los batches para obtener los tensores individuales. Después, actualiza el contador."
   ]
  },
  {
   "cell_type": "code",
   "execution_count": 25,
   "id": "6b34ab99-ce74-4103-9140-a1f42af7d634",
   "metadata": {},
   "outputs": [],
   "source": [
    "def get_class_distribution_loaders(dataloader_obj, dataset_obj):\n",
    "    count_dict = {k:0 for k,v in dataset_obj.class_to_idx.items()}\n",
    "    if dataloader_obj.batch_size == 1:    \n",
    "        for _,label_id in dataloader_obj:\n",
    "            y_idx = label_id.item()\n",
    "            y_lbl = idx2class[y_idx]\n",
    "            count_dict[str(y_lbl)] += 1\n",
    "    else: \n",
    "        for _,label_id in dataloader_obj:\n",
    "            for idx in label_id:\n",
    "                y_idx = idx.item()\n",
    "                y_lbl = idx2class[y_idx]\n",
    "                count_dict[str(y_lbl)] += 1\n",
    "    return count_dict"
   ]
  },
  {
   "cell_type": "markdown",
   "id": "658cb38f-dc41-4d63-9d02-c5bdf925e1d3",
   "metadata": {},
   "source": [
    "Ahora mostraremos la distribución de clases usando la función `plot_from_dict()` que definimsos anterioirmente."
   ]
  },
  {
   "cell_type": "code",
   "execution_count": 28,
   "id": "7b048de2-1ffb-44a6-bd34-ec02ff3fa217",
   "metadata": {},
   "outputs": [
    {
     "data": {
      "text/plain": [
       "Text(0.5, 1.0, 'Val Set')"
      ]
     },
     "execution_count": 28,
     "metadata": {},
     "output_type": "execute_result"
    },
    {
     "data": {
      "image/png": "[encoded data removed]",
      "text/plain": [
       "<Figure size 1296x504 with 2 Axes>"
      ]
     },
     "metadata": {
      "needs_background": "light"
     },
     "output_type": "display_data"
    }
   ],
   "source": [
    "fig, axes = plt.subplots(nrows=1, ncols=2, figsize=(18,7))\n",
    "plot_from_dict(get_class_distribution_loaders(train_loader, mosquitos_dataset_train), plot_title=\"Train Set\", ax=axes[0])\n",
    "plot_from_dict(get_class_distribution_loaders(val_loader, mosquitos_dataset_val), plot_title=\"Val Set\", ax=axes[1])\n"
   ]
  },
  {
   "cell_type": "markdown",
   "id": "3ab65315-6b98-4b39-8acd-50c1d8c070b5",
   "metadata": {},
   "source": [
    "Ahora que hemos comprobado la distibución de clases, veremos una sola imagen."
   ]
  },
  {
   "cell_type": "code",
   "execution_count": 29,
   "id": "3f374521-db4f-4cc3-b257-c7708c0ebd26",
   "metadata": {},
   "outputs": [],
   "source": [
    "single_batch = next(iter(train_loader))"
   ]
  },
  {
   "cell_type": "markdown",
   "id": "f7cef9f3-e8a8-4afd-bb2c-b20bdde04b55",
   "metadata": {},
   "source": [
    "`single_batch` es una lista de 2 elementos. El primero es el contiene el tensor de la imagen mientras que el segundo elemento tiene las etiquetas.\n",
    "\n",
    "La forma del primer elemento del tensor es `(Batch, channels, height, width)`"
   ]
  },
  {
   "cell_type": "code",
   "execution_count": 30,
   "id": "ffbbf2c5-aac8-4f89-b912-bf580d4f1ce9",
   "metadata": {},
   "outputs": [
    {
     "data": {
      "text/plain": [
       "torch.Size([8, 3, 224, 224])"
      ]
     },
     "execution_count": 30,
     "metadata": {},
     "output_type": "execute_result"
    }
   ],
   "source": [
    "single_batch[0].shape"
   ]
  },
  {
   "cell_type": "markdown",
   "id": "7058da20-dd7e-48b7-8ffe-d94921706420",
   "metadata": {},
   "source": [
    "Y estas son las etiquetas de salida de los batches"
   ]
  },
  {
   "cell_type": "code",
   "execution_count": 31,
   "id": "2adce0a4-2278-4fef-a466-bb2f462d27d4",
   "metadata": {},
   "outputs": [
    {
     "name": "stdout",
     "output_type": "stream",
     "text": [
      "Output label tensors:  tensor([1, 1, 1, 1, 0, 0, 1, 0])\n",
      "\n",
      "Output label tensor shape:  torch.Size([8])\n"
     ]
    }
   ],
   "source": [
    "print(\"Output label tensors: \", single_batch[1])\n",
    "print(\"\\nOutput label tensor shape: \", single_batch[1].shape)"
   ]
  },
  {
   "cell_type": "markdown",
   "id": "85be46f8-8223-496d-aae0-e04da5e9f99f",
   "metadata": {},
   "source": [
    "Para mostrar la imagen, usaremos `plt.imsow` de matplotlib. La función espera que las dimensiones de la imagen sean `(height, width, channels)`. Usaremos la función de `.permute()` en el tensor para poder \"voltear\" las dimensiones y poder mostrarla en una gráfica."
   ]
  },
  {
   "cell_type": "code",
   "execution_count": 32,
   "id": "1f060f41-8ff8-4542-be0a-993d6570ba4e",
   "metadata": {},
   "outputs": [
    {
     "data": {
      "text/plain": [
       "torch.Size([3, 224, 224])"
      ]
     },
     "execution_count": 32,
     "metadata": {},
     "output_type": "execute_result"
    }
   ],
   "source": [
    "single_image = single_batch[0][0]\n",
    "single_image.shape"
   ]
  },
  {
   "cell_type": "markdown",
   "id": "a72aa756-e570-4fb8-988c-c4041f3b4ece",
   "metadata": {},
   "source": [
    "Definimos el estilo de Seaborn"
   ]
  },
  {
   "cell_type": "code",
   "execution_count": 40,
   "id": "53af94eb-6b59-441f-99ba-fdc504ba7ba6",
   "metadata": {
    "tags": []
   },
   "outputs": [],
   "source": [
    "%matplotlib inline\n",
    "sns.set_style('darkgrid')"
   ]
  },
  {
   "cell_type": "code",
   "execution_count": 41,
   "id": "02d77abf-8b04-4c9f-a36b-25b5eef99ac3",
   "metadata": {},
   "outputs": [
    {
     "data": {
      "text/plain": [
       "<matplotlib.image.AxesImage at 0x1f4b36a8910>"
      ]
     },
     "execution_count": 41,
     "metadata": {},
     "output_type": "execute_result"
    },
    {
     "data": {
      "image/png": "[encoded data removed]",
      "text/plain": [
       "<Figure size 432x288 with 1 Axes>"
      ]
     },
     "metadata": {},
     "output_type": "display_data"
    }
   ],
   "source": [
    "plt.imshow(single_image.permute(1, 2, 0))"
   ]
  },
  {
   "cell_type": "markdown",
   "id": "201c0b7b-121c-4e47-99f7-fdd59a06a5e3",
   "metadata": {},
   "source": [
    "PyTorch nos ha facilitado trazar las imágenes en una cuadrícula directamente desde el batch.\n",
    "\n",
    "Primero extraemos el tensor de imagen de la lista (devuelto por nuestro dataloader) y establecemos `nrow`. Luego usamos la función `plt.imshow()` para graficar nuestra cuadrícula. No olvidemos la función `.permute()` para trabajar con las dimensiones del tensor conrrectas."
   ]
  },
  {
   "cell_type": "code",
   "execution_count": null,
   "id": "782e41a0-9189-4ab3-8633-9dc6cb85a69b",
   "metadata": {},
   "outputs": [],
   "source": [
    "# We do single_batch[0] because each batch is a list \n",
    "# where the 0th index is the image tensor and 1st index is the output label.\n",
    "single_batch_grid = utils.make_grid(single_batch[0], nrow=4)\n",
    "plt.figure(figsize = (10,10))\n",
    "plt.imshow(single_batch_grid.permute(1, 2, 0))"
   ]
  },
  {
   "cell_type": "markdown",
   "id": "d06e3fdb-6a54-4907-b3d1-28d3ecd53338",
   "metadata": {},
   "source": [
    "# Definir la arquitectura de la CNN"
   ]
  },
  {
   "cell_type": "markdown",
   "id": "d75db3b4-b20a-4af4-86ea-81a6bf79afcf",
   "metadata": {},
   "source": [
    "Nuestra arquitectura es simple. Usamos 4 bloques de capas Convolucionales. Cada bloque consiste en las siguientes capas; \n",
    "\n",
    "`Convolución` + `BatchNorm` + `ReLU` + `Dropout`"
   ]
  },
  {
   "cell_type": "code",
   "execution_count": 43,
   "id": "f820e537-348f-43ef-96d7-879019fa286f",
   "metadata": {},
   "outputs": [],
   "source": [
    "class MosquitosClassifier(nn.Module):\n",
    "    def __init__(self):\n",
    "        super(MosquitosClassifier, self).__init__()\n",
    "        self.block1 = self.conv_block(c_in=3, c_out=256, dropout=0.1, kernel_size=5, stride=1, padding=2)\n",
    "        self.block2 = self.conv_block(c_in=256, c_out=128, dropout=0.1, kernel_size=3, stride=1, padding=1)\n",
    "        self.block3 = self.conv_block(c_in=128, c_out=64, dropout=0.1, kernel_size=3, stride=1, padding=1)\n",
    "        self.lastcnn = nn.Conv2d(in_channels=64, out_channels=2, kernel_size=56, stride=1, padding=0)\n",
    "        self.maxpool = nn.MaxPool2d(kernel_size=2, stride=2)\n",
    "    def forward(self, x):\n",
    "        x = self.block1(x)\n",
    "        x = self.maxpool(x)\n",
    "        x = self.block2(x)\n",
    "        x = self.block3(x)\n",
    "        x = self.maxpool(x)\n",
    "        x = self.lastcnn(x)\n",
    "        return x\n",
    "    def conv_block(self, c_in, c_out, dropout,  **kwargs):\n",
    "        seq_block = nn.Sequential(\n",
    "            nn.Conv2d(in_channels=c_in, out_channels=c_out, **kwargs),\n",
    "            nn.BatchNorm2d(num_features=c_out),\n",
    "            nn.ReLU(),\n",
    "            nn.Dropout2d(p=dropout)\n",
    "        )\n",
    "        return seq_block"
   ]
  },
  {
   "cell_type": "markdown",
   "id": "18cce2c0-921f-452f-9a41-7d50f8f53d65",
   "metadata": {},
   "source": [
    "Ahora inicializaremos el modelo, el optimizador y la función de pérdida.\n",
    "\n",
    "Luego, transferiremos el modelo a la GPU.\n",
    " \n",
    "Usaremos la `nn.CrossEntropyLoss` aunque es un problema de clasificación binaria. Esto significa que, en lugar de devolver una única salida de `0/1`, trataremos la devolución de 2 valores de `0 a 1`. Más específicamente, las probabilidades de que la salida sea `0` o `1`.\n",
    "\n",
    "No tenemos que aplicar manualmente una capa `log_softmax` después de nuestra capa final porque la `nn.CrossEntropyLosshace` por nosotros.\n",
    "\n",
    "Pero debemos aplicar la capa `log_softmax` para la valicadión y prueba final."
   ]
  },
  {
   "cell_type": "code",
   "execution_count": null,
   "id": "1e5537af-96b3-4c8b-b374-abf51e3f0214",
   "metadata": {
    "tags": []
   },
   "outputs": [],
   "source": [
    "model = MosquitosClassifier()\n",
    "model.to(device)\n",
    "print(model)\n",
    "optimizer = optim.SGD(model.parameters(), lr=0.008)\n",
    "criterion = nn.CrossEntropyLoss()"
   ]
  },
  {
   "cell_type": "markdown",
   "id": "e532ad37-ab8a-48d0-a12b-e813e20102aa",
   "metadata": {},
   "source": [
    "Antes de comenzar nuestro entrenamiento, definamos una función para calcular la precisión por época.\n",
    "\n",
    "Esta función toma `y_pred` y `y_testcomo` argumentos de entrada. Luego aplicamos softmax `y_predy` extraemos la clase que tiene una mayor probabilidad.\n",
    "\n",
    "Después de eso, comparamos las clases predichas y las clases reales para calcular la precisión."
   ]
  },
  {
   "cell_type": "code",
   "execution_count": 45,
   "id": "8f03768d-764e-4d2b-9bad-a444f7718825",
   "metadata": {},
   "outputs": [],
   "source": [
    "def binary_acc(y_pred, y_test):\n",
    "    y_pred_tag = torch.log_softmax(y_pred, dim = 1)\n",
    "    _, y_pred_tags = torch.max(y_pred_tag, dim = 1)\n",
    "    correct_results_sum = (y_pred_tags == y_test).sum().float()\n",
    "    acc = correct_results_sum/y_test.shape[0]\n",
    "    acc = torch.round(acc * 100)\n",
    "    return acc"
   ]
  },
  {
   "cell_type": "markdown",
   "id": "c479101d-e755-4b24-bd7d-906e0186c7e7",
   "metadata": {},
   "source": [
    "También definiremos 2 diccionarios que almacenarán la precisión/época y la pérdida/época para los conjuntos de entrenamiento y validación."
   ]
  },
  {
   "cell_type": "code",
   "execution_count": 46,
   "id": "e77072b5-3124-4be2-a356-43afe51d9962",
   "metadata": {},
   "outputs": [],
   "source": [
    "accuracy_stats = {\n",
    "    'train': [],\n",
    "    \"val\": []\n",
    "}\n",
    "loss_stats = {\n",
    "    'train': [],\n",
    "    \"val\": []\n",
    "}"
   ]
  },
  {
   "cell_type": "markdown",
   "id": "72a533ee-83e2-4d22-a139-482a0d69bfbf",
   "metadata": {},
   "source": [
    "Hemos puesto un `model.train()` antes del bucle. `model.train()` le dice a PyTorch que estás en modo de entrenamiento. Bueno, ¿por qué tenemos que hacer eso? Si está usando capas como `Dropout` o `BatchNorm` que se comportan de manera diferente durante el entrenamiento y la evaluación (por ejemplo; no usar dropoutdurante la evaluación), debe decirle a PyTorch que actúe en consecuencia. Si bien el modo predeterminado en PyTorch es el entremaniento, no es necesario que lo escriba explícitamente. Pero es buena práctica.\n",
    "\n",
    "De manera similar, llamaremos `model.eval()` cuando probemos nuestro modelo. Lo veremos a continuación. Regresando con el entrenamiento; comenzamos un ciclo for. En la parte superior de este ciclo for, inicializamos nuestra `loss` y `accuracy` por época en 0. Después de cada época, imprimiremos la `loss/accuracy` y la restableceremos a 0.\n",
    "\n",
    "Luego tenemos otro ciclo for. Este bucle for se utiliza para obtener nuestros datos batches de `train_loader`.\n",
    "\n",
    "Aplicamos `optimizer.zero_grad()` antes de hacer predicciones. Dado que la función `.backward()` acumula gradientes, debemos establecerla en 0 manualmente por minibatches. A partir de nuestro modelo definido, obtenemos una predicción, obtenemos la `loss` (y `accuracy`) para ese minibatch, realizamos la propagación hacia atrás usando `loss.backward()` y `optimizer.step()`.\n",
    "\n",
    "Finalmente, agregamos todas las `loss` (y `accuracy`) de minibatches para obtener la pérdida promedio (y precisión) para esa época. Sumamos todas las `loss/accuracy` para cada minibatch y finalmente lo dividimos por el número de minibatches, es decir, longitud del `trainloader` para obtener la `loss/accuracy` promedio por época.\n",
    "\n",
    "El procedimiento que seguimos para el entrenamiento es exactamente el mismo para la validación, excepto por el hecho de que lo concluimos con la función `torch.no_grad` y no realizamos ninguna propagación hacia atrás. `torch.no_grad` le dice a PyTorch que no queremos realizar una retropropagación, lo que reduce el uso de memoria y acelera el cálculo."
   ]
  },
  {
   "cell_type": "code",
   "execution_count": 47,
   "id": "8cb341b3-6587-4806-8f10-fabeedb53bcb",
   "metadata": {},
   "outputs": [
    {
     "name": "stdout",
     "output_type": "stream",
     "text": [
      "Begin training.\n"
     ]
    },
    {
     "data": {
      "application/vnd.jupyter.widget-view+json": {
       "model_id": "7d7e1d02cd1e471ca387d9f5f8f27898",
       "version_major": 2,
       "version_minor": 0
      },
      "text/plain": [
       "  0%|          | 0/20 [00:00<?, ?it/s]"
      ]
     },
     "metadata": {},
     "output_type": "display_data"
    },
    {
     "name": "stdout",
     "output_type": "stream",
     "text": [
      "Epoch 01: | Train Loss: 32.65693 | Val Loss: 7.06386 | Train Acc: 51.942| Val Acc: 53.846\n",
      "Epoch 02: | Train Loss: 3.75884 | Val Loss: 1.24002 | Train Acc: 59.365| Val Acc: 63.462\n",
      "Epoch 03: | Train Loss: 1.17469 | Val Loss: 0.60606 | Train Acc: 68.500| Val Acc: 76.923\n",
      "Epoch 04: | Train Loss: 0.69816 | Val Loss: 0.55553 | Train Acc: 73.327| Val Acc: 71.154\n",
      "Epoch 05: | Train Loss: 0.50307 | Val Loss: 0.51505 | Train Acc: 77.000| Val Acc: 76.923\n",
      "Epoch 06: | Train Loss: 0.42064 | Val Loss: 0.55578 | Train Acc: 82.596| Val Acc: 84.615\n",
      "Epoch 07: | Train Loss: 0.52399 | Val Loss: 0.51331 | Train Acc: 80.154| Val Acc: 75.000\n",
      "Epoch 08: | Train Loss: 0.42585 | Val Loss: 0.42226 | Train Acc: 80.923| Val Acc: 75.000\n",
      "Epoch 09: | Train Loss: 0.35749 | Val Loss: 0.67169 | Train Acc: 86.250| Val Acc: 73.077\n",
      "Epoch 10: | Train Loss: 0.37572 | Val Loss: 0.38241 | Train Acc: 84.481| Val Acc: 86.538\n",
      "Epoch 11: | Train Loss: 0.30625 | Val Loss: 0.37076 | Train Acc: 89.096| Val Acc: 90.385\n",
      "Epoch 12: | Train Loss: 0.21565 | Val Loss: 0.39054 | Train Acc: 91.712| Val Acc: 90.385\n",
      "Epoch 13: | Train Loss: 0.21413 | Val Loss: 0.38778 | Train Acc: 93.000| Val Acc: 82.692\n",
      "Epoch 14: | Train Loss: 0.15770 | Val Loss: 0.39617 | Train Acc: 95.096| Val Acc: 80.769\n",
      "Epoch 15: | Train Loss: 0.14959 | Val Loss: 0.38065 | Train Acc: 95.538| Val Acc: 82.692\n",
      "Epoch 16: | Train Loss: 0.13321 | Val Loss: 0.43327 | Train Acc: 96.731| Val Acc: 80.769\n",
      "Epoch 17: | Train Loss: 0.14907 | Val Loss: 0.38085 | Train Acc: 96.250| Val Acc: 82.692\n",
      "Epoch 18: | Train Loss: 0.14934 | Val Loss: 0.34597 | Train Acc: 95.769| Val Acc: 82.692\n",
      "Epoch 19: | Train Loss: 0.24354 | Val Loss: 0.41342 | Train Acc: 94.154| Val Acc: 84.615\n",
      "Epoch 20: | Train Loss: 0.07554 | Val Loss: 0.35877 | Train Acc: 97.673| Val Acc: 86.538\n"
     ]
    }
   ],
   "source": [
    "print(\"Begin training.\")\n",
    "for e in tqdm(range(1, 21)):\n",
    "    # TRAINING\n",
    "    train_epoch_loss = 0\n",
    "    train_epoch_acc = 0\n",
    "    model.train()\n",
    "    for X_train_batch, y_train_batch in train_loader:\n",
    "        X_train_batch, y_train_batch = X_train_batch.to(device), y_train_batch.to(device)\n",
    "        optimizer.zero_grad()\n",
    "        y_train_pred = model(X_train_batch).squeeze()\n",
    "        train_loss = criterion(y_train_pred, y_train_batch)\n",
    "        train_acc = binary_acc(y_train_pred, y_train_batch)\n",
    "        train_loss.backward()\n",
    "        optimizer.step()\n",
    "        train_epoch_loss += train_loss.item()\n",
    "        train_epoch_acc += train_acc.item()\n",
    "    # VALIDATION\n",
    "    with torch.no_grad():\n",
    "        model.eval()\n",
    "        val_epoch_loss = 0\n",
    "        val_epoch_acc = 0\n",
    "        for X_val_batch, y_val_batch in val_loader:\n",
    "            X_val_batch, y_val_batch = X_val_batch.to(device), y_val_batch.to(device)\n",
    "            y_val_pred = model(X_val_batch).squeeze()\n",
    "            y_val_pred = torch.unsqueeze(y_val_pred, 0)\n",
    "            val_loss = criterion(y_val_pred, y_val_batch)\n",
    "            val_acc = binary_acc(y_val_pred, y_val_batch)\n",
    "            val_epoch_loss += val_loss.item()\n",
    "            val_epoch_acc += val_acc.item()\n",
    "    loss_stats['train'].append(train_epoch_loss/len(train_loader))\n",
    "    loss_stats['val'].append(val_epoch_loss/len(val_loader))\n",
    "    accuracy_stats['train'].append(train_epoch_acc/len(train_loader))\n",
    "    accuracy_stats['val'].append(val_epoch_acc/len(val_loader))\n",
    "    print(f'Epoch {e+0:02}: | Train Loss: {train_epoch_loss/len(train_loader):.5f} | Val Loss: {val_epoch_loss/len(val_loader):.5f} | Train Acc: {train_epoch_acc/len(train_loader):.3f}| Val Acc: {val_epoch_acc/len(val_loader):.3f}')"
   ]
  },
  {
   "cell_type": "markdown",
   "id": "d7d1fccd-c194-4f83-a1e6-b9b866736873",
   "metadata": {},
   "source": [
    "## Visualizar la pérdida y la precisión"
   ]
  },
  {
   "cell_type": "markdown",
   "id": "ce9fae22-88b8-4da4-a04a-d9e794a46b8f",
   "metadata": {},
   "source": [
    "Para trazar las gráficas de pérdida y precisión, nuevamente creamos un dataframe a partir de los diccionarios `accuracy_stats` y `loss_stats`."
   ]
  },
  {
   "cell_type": "code",
   "execution_count": 48,
   "id": "7f4e897e-b620-4055-ace4-4ea673f43ba4",
   "metadata": {},
   "outputs": [
    {
     "data": {
      "text/plain": [
       "Text(0.5, 1.0, 'Train-Val Loss/Epoch')"
      ]
     },
     "execution_count": 48,
     "metadata": {},
     "output_type": "execute_result"
    },
    {
     "data": {
      "image/png": "[encoded data removed]",
      "text/plain": [
       "<Figure size 2160x720 with 2 Axes>"
      ]
     },
     "metadata": {},
     "output_type": "display_data"
    }
   ],
   "source": [
    "train_val_acc_df = pd.DataFrame.from_dict(accuracy_stats).reset_index().melt(id_vars=['index']).rename(columns={\"index\":\"epochs\"})\n",
    "train_val_loss_df = pd.DataFrame.from_dict(loss_stats).reset_index().melt(id_vars=['index']).rename(columns={\"index\":\"epochs\"})\n",
    "fig, axes = plt.subplots(nrows=1, ncols=2, figsize=(30,10))\n",
    "sns.lineplot(data=train_val_acc_df, x = \"epochs\", y=\"value\", hue=\"variable\",  ax=axes[0]).set_title('Train-Val Accuracy/Epoch')\n",
    "sns.lineplot(data=train_val_loss_df, x = \"epochs\", y=\"value\", hue=\"variable\", ax=axes[1]).set_title('Train-Val Loss/Epoch')"
   ]
  },
  {
   "cell_type": "markdown",
   "id": "b72202c4-3122-4b8e-8f3f-4cc32f29c990",
   "metadata": {},
   "source": [
    "## Prueba del modelo"
   ]
  },
  {
   "cell_type": "markdown",
   "id": "2d465439-f570-403f-bb9e-de2432b636c8",
   "metadata": {},
   "source": [
    "Después del entrenamiento, debemos comprobar cómo se comporta nuestro modelo. Usaremos `model.eval()` antes de correr nuetro códido de prueba. \n",
    "\n",
    "Para decirle a PyTorch que no queremos realizar una retropropagación durante la inferencia, usamos `torch.no_grad()`, tal como lo hicimos para el ciclo de validación anterior.\n",
    "\n",
    "- Comenzamos una lista que va a tener nuestras predicciones Entonces iteramos a travéz de nuestros batches usando `test_loader`. Para cada batch:\n",
    "\n",
    "    - Movemos nuestros mini bacthes de entrada la la GPU\n",
    "    \n",
    "    - Hacemos nuestras predicciones en nuestro modelo entrenado.\n",
    "    \n",
    "    - Aplicamos la función de activación `log_softmax` a las predicciones y legimos el índice del que tenga la mayor probabilidad\n",
    "    \n",
    "    - Movemos el batch de la GPU  a la CPU.\n",
    "    \n",
    "    - Convertimos el tensor a un objeto de nunpy y lo agregamos a nuestra lista."
   ]
  },
  {
   "cell_type": "code",
   "execution_count": 49,
   "id": "9d00094d-d7c5-476b-bb5b-9f249666dbfe",
   "metadata": {},
   "outputs": [
    {
     "data": {
      "application/vnd.jupyter.widget-view+json": {
       "model_id": "f83a3492f44746e28022a77fb07a46ce",
       "version_major": 2,
       "version_minor": 0
      },
      "text/plain": [
       "  0%|          | 0/52 [00:00<?, ?it/s]"
      ]
     },
     "metadata": {},
     "output_type": "display_data"
    }
   ],
   "source": [
    "y_pred_list = []\n",
    "y_true_list = []\n",
    "with torch.no_grad():\n",
    "    for x_batch, y_batch in tqdm(test_loader):\n",
    "        x_batch, y_batch = x_batch.to(device), y_batch.to(device)\n",
    "        y_test_pred = model(x_batch)\n",
    "        _, y_pred_tag = torch.max(y_test_pred, dim = 1)\n",
    "        y_pred_list.append(y_pred_tag.cpu().numpy())\n",
    "        y_true_list.append(y_batch.cpu().numpy())"
   ]
  },
  {
   "cell_type": "markdown",
   "id": "61eeebcc-3355-4cc8-8f4f-8f0b815e26ec",
   "metadata": {},
   "source": [
    "Aplanaremos la lista para que podamos usarla como entrada para `confusion_matrix()` y `classification_report()`"
   ]
  },
  {
   "cell_type": "code",
   "execution_count": 50,
   "id": "326ccaa6-f549-4328-91d8-750f0da0c0b3",
   "metadata": {},
   "outputs": [],
   "source": [
    "y_pred_list = [i[0][0][0] for i in y_pred_list]\n",
    "y_true_list = [i[0] for i in y_true_list]"
   ]
  },
  {
   "cell_type": "markdown",
   "id": "abc60d42-c265-44bd-ac3b-11b86d19816c",
   "metadata": {},
   "source": [
    "## Reporte de clasificaión"
   ]
  },
  {
   "cell_type": "markdown",
   "id": "76905864-7d24-41b6-9d81-c50b79eb4de2",
   "metadata": {},
   "source": [
    "Finalmente, mostramos nuestro reporte de clasificación que contiene la precisión, el recall y la puntuación F1."
   ]
  },
  {
   "cell_type": "code",
   "execution_count": 51,
   "id": "20f61f3b-1e78-4c34-913b-091d40b6d924",
   "metadata": {},
   "outputs": [
    {
     "name": "stdout",
     "output_type": "stream",
     "text": [
      "              precision    recall  f1-score   support\n",
      "\n",
      "           0       0.86      0.73      0.79        26\n",
      "           1       0.77      0.88      0.82        26\n",
      "\n",
      "    accuracy                           0.81        52\n",
      "   macro avg       0.82      0.81      0.81        52\n",
      "weighted avg       0.82      0.81      0.81        52\n",
      "\n"
     ]
    }
   ],
   "source": [
    "print(classification_report(y_true_list, y_pred_list))"
   ]
  },
  {
   "cell_type": "markdown",
   "id": "ed273fb6-1ef6-431a-9cd7-fcdfd69f6a60",
   "metadata": {},
   "source": [
    "## Matriz de Confusión"
   ]
  },
  {
   "cell_type": "markdown",
   "id": "bce1cf8e-ce75-4017-9089-f10b55e398b2",
   "metadata": {},
   "source": [
    "Usaremos la función `confusion_matrix()` para realizar nuestra matris de confusión."
   ]
  },
  {
   "cell_type": "code",
   "execution_count": 52,
   "id": "b7307c13-b917-4d66-addc-bd42fd776008",
   "metadata": {},
   "outputs": [
    {
     "name": "stdout",
     "output_type": "stream",
     "text": [
      "[[19  7]\n",
      " [ 3 23]]\n"
     ]
    }
   ],
   "source": [
    "print(confusion_matrix(y_true_list, y_pred_list))"
   ]
  },
  {
   "cell_type": "markdown",
   "id": "2a01b084-4bc3-41d5-b4d8-ace37e574141",
   "metadata": {},
   "source": [
    "Creamos un dataframe de la matriz de confusión y lo graficamos en un mapa de calor usando la lirería de Seaborn."
   ]
  },
  {
   "cell_type": "code",
   "execution_count": 53,
   "id": "647c4cb5-7c81-4f3f-ac5e-360cd53c0f69",
   "metadata": {},
   "outputs": [
    {
     "data": {
      "text/plain": [
       "<AxesSubplot:>"
      ]
     },
     "execution_count": 53,
     "metadata": {},
     "output_type": "execute_result"
    },
    {
     "data": {
      "image/png": "[encoded data removed]",
      "text/plain": [
       "<Figure size 504x360 with 2 Axes>"
      ]
     },
     "metadata": {},
     "output_type": "display_data"
    }
   ],
   "source": [
    "confusion_matrix_df = pd.DataFrame(confusion_matrix(y_true_list, y_pred_list)).rename(columns=idx2class, index=idx2class)\n",
    "fig, ax = plt.subplots(figsize=(7,5))         \n",
    "sns.heatmap(confusion_matrix_df, annot=True, ax=ax)\n"
   ]
  },
  {
   "cell_type": "code",
   "execution_count": null,
   "id": "19df6220-bdc9-4121-9439-a2437cccdd5f",
   "metadata": {},
   "outputs": [],
   "source": []
  }
 ],
 "metadata": {
  "kernelspec": {
   "display_name": "Python 3",
   "language": "python",
   "name": "python3"
  },
  "language_info": {
   "codemirror_mode": {
    "name": "ipython",
    "version": 3
   },
   "file_extension": ".py",
   "mimetype": "text/x-python",
   "name": "python",
   "nbconvert_exporter": "python",
   "pygments_lexer": "ipython3",
   "version": "3.8.8"
  }
 },
 "nbformat": 4,
 "nbformat_minor": 5
}
